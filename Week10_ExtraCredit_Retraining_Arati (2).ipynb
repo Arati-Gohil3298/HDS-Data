{
  "nbformat": 4,
  "nbformat_minor": 0,
  "metadata": {
    "colab": {
      "provenance": []
    },
    "kernelspec": {
      "name": "python3",
      "display_name": "Python 3"
    },
    "language_info": {
      "name": "python"
    }
  },
  "cells": [
    {
      "cell_type": "code",
      "execution_count": 22,
      "metadata": {
        "id": "_2oWN_vv-KT1"
      },
      "outputs": [],
      "source": [
        "import pandas as pd\n",
        "import numpy as np\n",
        "from sklearn.model_selection import train_test_split\n",
        "from sklearn.dummy import DummyClassifier\n",
        "from sklearn.neighbors import KNeighborsClassifier\n",
        "from sklearn.metrics import accuracy_score, recall_score, precision_score, confusion_matrix\n"
      ]
    },
    {
      "cell_type": "code",
      "source": [
        "# Paths to all 4 datasets\n",
        "file_paths = {\n",
        "    \"first\": \"first.csv\",\n",
        "    \"second\": \"second.csv\",\n",
        "    \"third\": \"third.csv\",\n",
        "    \"fourth\": \"fourth.csv\"\n",
        "}\n"
      ],
      "metadata": {
        "id": "Tgsu0tr3-aFq"
      },
      "execution_count": 23,
      "outputs": []
    },
    {
      "cell_type": "code",
      "source": [
        "# Extracts X (features) and Y (target) from dataframe\n",
        "def extract_X_Y(df):\n",
        "    X = df[[\"x\", \"y\"]].values\n",
        "    Y = df[\"result\"].values\n",
        "    return X, Y\n"
      ],
      "metadata": {
        "id": "G84vq72P-cub"
      },
      "execution_count": 24,
      "outputs": []
    },
    {
      "cell_type": "code",
      "source": [
        "def retrain_model(df, classifier_type='knn', test_size=0.4):\n",
        "    X, Y = extract_X_Y(df)\n",
        "\n",
        "    # Stratified train/test split\n",
        "    X_train, X_test, y_train, y_test = train_test_split(\n",
        "        X, Y, test_size=test_size, stratify=Y, random_state=42\n",
        "    )\n",
        "\n",
        "    # Choose classifier\n",
        "    if classifier_type == 'knn':\n",
        "        model = KNeighborsClassifier(n_neighbors=3)\n",
        "    elif classifier_type == 'dummy':\n",
        "        model = DummyClassifier(strategy='most_frequent')\n",
        "    else:\n",
        "        raise ValueError(\"Classifier type must be 'knn' or 'dummy'\")\n",
        "\n",
        "    # Train and predict\n",
        "    model.fit(X_train, y_train)\n",
        "    y_pred = model.predict(X_test)\n",
        "\n",
        "    # Evaluation results\n",
        "    print(f\"\\n Classifier: {classifier_type.upper()} | Dataset: {len(X)} samples\")\n",
        "    print(\"Accuracy :\", round(accuracy_score(y_test, y_pred), 3))\n",
        "    print(\"Recall   :\", round(recall_score(y_test, y_pred, average='macro'), 3))\n",
        "    print(\"Precision:\", round(precision_score(y_test, y_pred, average='macro'), 3))\n",
        "    print(\"Confusion Matrix:\\n\", confusion_matrix(y_test, y_pred))\n",
        "\n",
        "    return model\n"
      ],
      "metadata": {
        "id": "aUO5MaMD-e5C"
      },
      "execution_count": 25,
      "outputs": []
    },
    {
      "cell_type": "code",
      "source": [
        "# Retrain and evaluate using both classifiers for each dataset\n",
        "for name, path in file_paths.items():\n",
        "    print(f\"\\n=== Retraining on {name}.csv ===\")\n",
        "    df = pd.read_csv(path)\n",
        "    retrain_model(df, classifier_type='knn')\n",
        "    retrain_model(df, classifier_type='dummy')\n"
      ],
      "metadata": {
        "colab": {
          "base_uri": "https://localhost:8080/"
        },
        "id": "uGbSCkQ8p5jA",
        "outputId": "8b6806a3-476f-4519-8182-77825e2359aa"
      },
      "execution_count": 26,
      "outputs": [
        {
          "output_type": "stream",
          "name": "stdout",
          "text": [
            "\n",
            "=== Retraining on first.csv ===\n",
            "\n",
            " Classifier: KNN | Dataset: 1000 samples\n",
            "Accuracy : 0.885\n",
            "Recall   : 0.885\n",
            "Precision: 0.885\n",
            "Confusion Matrix:\n",
            " [[174  23]\n",
            " [ 23 180]]\n",
            "\n",
            " Classifier: DUMMY | Dataset: 1000 samples\n",
            "Accuracy : 0.507\n",
            "Recall   : 0.5\n",
            "Precision: 0.254\n",
            "Confusion Matrix:\n",
            " [[  0 197]\n",
            " [  0 203]]\n",
            "\n",
            "=== Retraining on second.csv ===\n",
            "\n",
            " Classifier: KNN | Dataset: 1000 samples\n",
            "Accuracy : 0.9\n",
            "Recall   : 0.9\n",
            "Precision: 0.9\n",
            "Confusion Matrix:\n",
            " [[181  20]\n",
            " [ 20 179]]\n",
            "\n",
            " Classifier: DUMMY | Dataset: 1000 samples\n",
            "Accuracy : 0.502\n",
            "Recall   : 0.5\n",
            "Precision: 0.251\n",
            "Confusion Matrix:\n",
            " [[201   0]\n",
            " [199   0]]\n",
            "\n",
            "=== Retraining on third.csv ===\n",
            "\n",
            " Classifier: KNN | Dataset: 1000 samples\n",
            "Accuracy : 0.963\n",
            "Recall   : 0.925\n",
            "Precision: 0.956\n",
            "Confusion Matrix:\n",
            " [[316   4]\n",
            " [ 11  69]]\n",
            "\n",
            " Classifier: DUMMY | Dataset: 1000 samples\n",
            "Accuracy : 0.8\n",
            "Recall   : 0.5\n",
            "Precision: 0.4\n",
            "Confusion Matrix:\n",
            " [[320   0]\n",
            " [ 80   0]]\n",
            "\n",
            "=== Retraining on fourth.csv ===\n",
            "\n",
            " Classifier: KNN | Dataset: 1000 samples\n",
            "Accuracy : 0.955\n",
            "Recall   : 0.953\n",
            "Precision: 0.93\n",
            "Confusion Matrix:\n",
            " [[289  13]\n",
            " [  5  93]]\n",
            "\n",
            " Classifier: DUMMY | Dataset: 1000 samples\n",
            "Accuracy : 0.755\n",
            "Recall   : 0.5\n",
            "Precision: 0.378\n",
            "Confusion Matrix:\n",
            " [[302   0]\n",
            " [ 98   0]]\n"
          ]
        },
        {
          "output_type": "stream",
          "name": "stderr",
          "text": [
            "/usr/local/lib/python3.11/dist-packages/sklearn/metrics/_classification.py:1565: UndefinedMetricWarning: Precision is ill-defined and being set to 0.0 in labels with no predicted samples. Use `zero_division` parameter to control this behavior.\n",
            "  _warn_prf(average, modifier, f\"{metric.capitalize()} is\", len(result))\n",
            "/usr/local/lib/python3.11/dist-packages/sklearn/metrics/_classification.py:1565: UndefinedMetricWarning: Precision is ill-defined and being set to 0.0 in labels with no predicted samples. Use `zero_division` parameter to control this behavior.\n",
            "  _warn_prf(average, modifier, f\"{metric.capitalize()} is\", len(result))\n",
            "/usr/local/lib/python3.11/dist-packages/sklearn/metrics/_classification.py:1565: UndefinedMetricWarning: Precision is ill-defined and being set to 0.0 in labels with no predicted samples. Use `zero_division` parameter to control this behavior.\n",
            "  _warn_prf(average, modifier, f\"{metric.capitalize()} is\", len(result))\n",
            "/usr/local/lib/python3.11/dist-packages/sklearn/metrics/_classification.py:1565: UndefinedMetricWarning: Precision is ill-defined and being set to 0.0 in labels with no predicted samples. Use `zero_division` parameter to control this behavior.\n",
            "  _warn_prf(average, modifier, f\"{metric.capitalize()} is\", len(result))\n"
          ]
        }
      ]
    },
    {
      "cell_type": "code",
      "source": [
        "# Retrain and evaluate using both classifiers for each dataset\n",
        "for name, path in file_paths.items():\n",
        "    print(f\"\\n=== Retraining on {name}.csv ===\")\n",
        "    df = pd.read_csv(path)\n",
        "    retrain_model(df, classifier_type='knn')\n",
        "    retrain_model(df, classifier_type='dummy')\n"
      ],
      "metadata": {
        "colab": {
          "base_uri": "https://localhost:8080/"
        },
        "id": "SIWmn7k2-wQa",
        "outputId": "3ef67b30-f060-460c-c9fa-4e95d676473e"
      },
      "execution_count": 27,
      "outputs": [
        {
          "output_type": "stream",
          "name": "stdout",
          "text": [
            "\n",
            "=== Retraining on first.csv ===\n",
            "\n",
            " Classifier: KNN | Dataset: 1000 samples\n",
            "Accuracy : 0.885\n",
            "Recall   : 0.885\n",
            "Precision: 0.885\n",
            "Confusion Matrix:\n",
            " [[174  23]\n",
            " [ 23 180]]\n",
            "\n",
            " Classifier: DUMMY | Dataset: 1000 samples\n",
            "Accuracy : 0.507\n",
            "Recall   : 0.5\n",
            "Precision: 0.254\n",
            "Confusion Matrix:\n",
            " [[  0 197]\n",
            " [  0 203]]\n",
            "\n",
            "=== Retraining on second.csv ===\n",
            "\n",
            " Classifier: KNN | Dataset: 1000 samples\n",
            "Accuracy : 0.9\n",
            "Recall   : 0.9\n",
            "Precision: 0.9\n",
            "Confusion Matrix:\n",
            " [[181  20]\n",
            " [ 20 179]]\n",
            "\n",
            " Classifier: DUMMY | Dataset: 1000 samples\n",
            "Accuracy : 0.502\n",
            "Recall   : 0.5\n",
            "Precision: 0.251\n",
            "Confusion Matrix:\n",
            " [[201   0]\n",
            " [199   0]]\n",
            "\n",
            "=== Retraining on third.csv ===\n",
            "\n",
            " Classifier: KNN | Dataset: 1000 samples\n",
            "Accuracy : 0.963\n",
            "Recall   : 0.925\n",
            "Precision: 0.956\n",
            "Confusion Matrix:\n",
            " [[316   4]\n",
            " [ 11  69]]\n",
            "\n",
            " Classifier: DUMMY | Dataset: 1000 samples\n",
            "Accuracy : 0.8\n",
            "Recall   : 0.5\n",
            "Precision: 0.4\n",
            "Confusion Matrix:\n",
            " [[320   0]\n",
            " [ 80   0]]\n",
            "\n",
            "=== Retraining on fourth.csv ===\n",
            "\n",
            " Classifier: KNN | Dataset: 1000 samples\n",
            "Accuracy : 0.955\n",
            "Recall   : 0.953\n",
            "Precision: 0.93\n",
            "Confusion Matrix:\n",
            " [[289  13]\n",
            " [  5  93]]\n",
            "\n",
            " Classifier: DUMMY | Dataset: 1000 samples\n",
            "Accuracy : 0.755\n",
            "Recall   : 0.5\n",
            "Precision: 0.378\n",
            "Confusion Matrix:\n",
            " [[302   0]\n",
            " [ 98   0]]\n"
          ]
        },
        {
          "output_type": "stream",
          "name": "stderr",
          "text": [
            "/usr/local/lib/python3.11/dist-packages/sklearn/metrics/_classification.py:1565: UndefinedMetricWarning: Precision is ill-defined and being set to 0.0 in labels with no predicted samples. Use `zero_division` parameter to control this behavior.\n",
            "  _warn_prf(average, modifier, f\"{metric.capitalize()} is\", len(result))\n",
            "/usr/local/lib/python3.11/dist-packages/sklearn/metrics/_classification.py:1565: UndefinedMetricWarning: Precision is ill-defined and being set to 0.0 in labels with no predicted samples. Use `zero_division` parameter to control this behavior.\n",
            "  _warn_prf(average, modifier, f\"{metric.capitalize()} is\", len(result))\n",
            "/usr/local/lib/python3.11/dist-packages/sklearn/metrics/_classification.py:1565: UndefinedMetricWarning: Precision is ill-defined and being set to 0.0 in labels with no predicted samples. Use `zero_division` parameter to control this behavior.\n",
            "  _warn_prf(average, modifier, f\"{metric.capitalize()} is\", len(result))\n",
            "/usr/local/lib/python3.11/dist-packages/sklearn/metrics/_classification.py:1565: UndefinedMetricWarning: Precision is ill-defined and being set to 0.0 in labels with no predicted samples. Use `zero_division` parameter to control this behavior.\n",
            "  _warn_prf(average, modifier, f\"{metric.capitalize()} is\", len(result))\n"
          ]
        }
      ]
    },
    {
      "cell_type": "markdown",
      "source": [
        "\n",
        "\n",
        "This section implements a `retrain_model()` function to support user-requested retraining using either a KNN classifier or a Dummy classifier.\n",
        "\n",
        "Key Features:\n",
        "- Supports `'knn'` and `'dummy'` classifiers.\n",
        "- Performs stratified train-test splitting to ensure balanced class distribution.\n",
        "- Automatically loops through all 4 datasets: `first.csv`, `second.csv`, `third.csv`, `fourth.csv`.\n",
        "- Evaluates performance using:\n",
        "  - Accuracy\n",
        "  - Recall\n",
        "  - Precision\n",
        "  - Confusion Matrix"
      ],
      "metadata": {
        "id": "68BRF8LV-4Xc"
      }
    },
    {
      "cell_type": "markdown",
      "source": [
        "## User-Controlled Online Retraining\n",
        "\n",
        "This section prompts the user to confirm whether retraining should proceed.  \n",
        "If the user types yes, the system loops through all datasets and retrains using both KNN and Dummy classifiers with stratified splits.  \n",
        "Otherwise, it skips retraining.\n",
        "\n"
      ],
      "metadata": {
        "id": "UXHm5lFTszE8"
      }
    },
    {
      "cell_type": "code",
      "source": [
        "#  user_input = \"yes\"  # set to \"no\" if you want to skip retraining\n",
        "\n",
        "if user_input == \"yes\":\n",
        "    for name, path in file_paths.items():\n",
        "        print(f\"\\n=== Retraining on {name}.csv ===\")\n",
        "        try:\n",
        "            df = pd.read_csv(path)\n",
        "            retrain_model(df, classifier_type='knn')\n",
        "            retrain_model(df, classifier_type='dummy')\n",
        "        except Exception as e:\n",
        "            print(f\" Error loading {name}.csv:\", e)\n",
        "else:\n",
        "    print(\" Retraining skipped by user request.\")\n"
      ],
      "metadata": {
        "colab": {
          "base_uri": "https://localhost:8080/"
        },
        "id": "1dX6mbEAtJMp",
        "outputId": "0bf3b5be-fcaf-434b-efc5-1ce28a17b70d"
      },
      "execution_count": 29,
      "outputs": [
        {
          "output_type": "stream",
          "name": "stdout",
          "text": [
            "\n",
            "=== Retraining on first.csv ===\n",
            "\n",
            " Classifier: KNN | Dataset: 1000 samples\n",
            "Accuracy : 0.885\n",
            "Recall   : 0.885\n",
            "Precision: 0.885\n",
            "Confusion Matrix:\n",
            " [[174  23]\n",
            " [ 23 180]]\n",
            "\n",
            " Classifier: DUMMY | Dataset: 1000 samples\n",
            "Accuracy : 0.507\n",
            "Recall   : 0.5\n",
            "Precision: 0.254\n",
            "Confusion Matrix:\n",
            " [[  0 197]\n",
            " [  0 203]]\n",
            "\n",
            "=== Retraining on second.csv ===\n",
            "\n",
            " Classifier: KNN | Dataset: 1000 samples\n",
            "Accuracy : 0.9\n",
            "Recall   : 0.9\n",
            "Precision: 0.9\n",
            "Confusion Matrix:\n",
            " [[181  20]\n",
            " [ 20 179]]\n",
            "\n",
            " Classifier: DUMMY | Dataset: 1000 samples\n",
            "Accuracy : 0.502\n",
            "Recall   : 0.5\n",
            "Precision: 0.251\n",
            "Confusion Matrix:\n",
            " [[201   0]\n",
            " [199   0]]\n",
            "\n",
            "=== Retraining on third.csv ===\n",
            "\n",
            " Classifier: KNN | Dataset: 1000 samples\n",
            "Accuracy : 0.963\n",
            "Recall   : 0.925\n",
            "Precision: 0.956\n",
            "Confusion Matrix:\n",
            " [[316   4]\n",
            " [ 11  69]]\n",
            "\n",
            " Classifier: DUMMY | Dataset: 1000 samples\n",
            "Accuracy : 0.8\n",
            "Recall   : 0.5\n",
            "Precision: 0.4\n",
            "Confusion Matrix:\n",
            " [[320   0]\n",
            " [ 80   0]]\n",
            "\n",
            "=== Retraining on fourth.csv ===\n",
            "\n",
            " Classifier: KNN | Dataset: 1000 samples\n",
            "Accuracy : 0.955\n",
            "Recall   : 0.953\n",
            "Precision: 0.93\n",
            "Confusion Matrix:\n",
            " [[289  13]\n",
            " [  5  93]]\n",
            "\n",
            " Classifier: DUMMY | Dataset: 1000 samples\n",
            "Accuracy : 0.755\n",
            "Recall   : 0.5\n",
            "Precision: 0.378\n",
            "Confusion Matrix:\n",
            " [[302   0]\n",
            " [ 98   0]]\n"
          ]
        },
        {
          "output_type": "stream",
          "name": "stderr",
          "text": [
            "/usr/local/lib/python3.11/dist-packages/sklearn/metrics/_classification.py:1565: UndefinedMetricWarning: Precision is ill-defined and being set to 0.0 in labels with no predicted samples. Use `zero_division` parameter to control this behavior.\n",
            "  _warn_prf(average, modifier, f\"{metric.capitalize()} is\", len(result))\n",
            "/usr/local/lib/python3.11/dist-packages/sklearn/metrics/_classification.py:1565: UndefinedMetricWarning: Precision is ill-defined and being set to 0.0 in labels with no predicted samples. Use `zero_division` parameter to control this behavior.\n",
            "  _warn_prf(average, modifier, f\"{metric.capitalize()} is\", len(result))\n",
            "/usr/local/lib/python3.11/dist-packages/sklearn/metrics/_classification.py:1565: UndefinedMetricWarning: Precision is ill-defined and being set to 0.0 in labels with no predicted samples. Use `zero_division` parameter to control this behavior.\n",
            "  _warn_prf(average, modifier, f\"{metric.capitalize()} is\", len(result))\n",
            "/usr/local/lib/python3.11/dist-packages/sklearn/metrics/_classification.py:1565: UndefinedMetricWarning: Precision is ill-defined and being set to 0.0 in labels with no predicted samples. Use `zero_division` parameter to control this behavior.\n",
            "  _warn_prf(average, modifier, f\"{metric.capitalize()} is\", len(result))\n"
          ]
        }
      ]
    }
  ]
}