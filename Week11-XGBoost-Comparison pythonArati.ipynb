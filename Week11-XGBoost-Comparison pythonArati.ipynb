{
 "cells": [
  {
   "cell_type": "code",
   "execution_count": 15,
   "metadata": {
    "colab": {
     "base_uri": "https://localhost:8080/"
    },
    "id": "BAnq5VxOn18M",
    "outputId": "91ab69bf-ffb1-4f23-ca6f-33bc54487c0f"
   },
   "outputs": [
    {
     "name": "stdout",
     "output_type": "stream",
     "text": [
      "Requirement already satisfied: xgboost in /usr/local/lib/python3.11/dist-packages (2.1.4)\n",
      "Requirement already satisfied: scikit-learn in /usr/local/lib/python3.11/dist-packages (1.6.1)\n",
      "Requirement already satisfied: pandas in /usr/local/lib/python3.11/dist-packages (2.2.2)\n",
      "Requirement already satisfied: numpy in /usr/local/lib/python3.11/dist-packages (2.0.2)\n",
      "Requirement already satisfied: nvidia-nccl-cu12 in /usr/local/lib/python3.11/dist-packages (from xgboost) (2.21.5)\n",
      "Requirement already satisfied: scipy in /usr/local/lib/python3.11/dist-packages (from xgboost) (1.14.1)\n",
      "Requirement already satisfied: joblib>=1.2.0 in /usr/local/lib/python3.11/dist-packages (from scikit-learn) (1.4.2)\n",
      "Requirement already satisfied: threadpoolctl>=3.1.0 in /usr/local/lib/python3.11/dist-packages (from scikit-learn) (3.6.0)\n",
      "Requirement already satisfied: python-dateutil>=2.8.2 in /usr/local/lib/python3.11/dist-packages (from pandas) (2.8.2)\n",
      "Requirement already satisfied: pytz>=2020.1 in /usr/local/lib/python3.11/dist-packages (from pandas) (2025.2)\n",
      "Requirement already satisfied: tzdata>=2022.7 in /usr/local/lib/python3.11/dist-packages (from pandas) (2025.2)\n",
      "Requirement already satisfied: six>=1.5 in /usr/local/lib/python3.11/dist-packages (from python-dateutil>=2.8.2->pandas) (1.17.0)\n"
     ]
    }
   ],
   "source": [
    "# Install packages if needed\n",
    "!pip install xgboost scikit-learn pandas numpy\n"
   ]
  },
  {
   "cell_type": "code",
   "execution_count": 16,
   "metadata": {
    "id": "YxkK-6nxn4QX"
   },
   "outputs": [],
   "source": [
    "# Perform 5-Fold Cross-Validation and measure model accuracy and time\n",
    "import xgboost as xgb\n",
    "import pandas as pd\n",
    "import numpy as np\n",
    "import time\n",
    "from sklearn.model_selection import cross_val_score\n",
    "from sklearn.model_selection import StratifiedKFold\n",
    "import os\n"
   ]
  },
  {
   "cell_type": "code",
   "execution_count": 17,
   "metadata": {
    "id": "PY7zhyyUn6RS"
   },
   "outputs": [],
   "source": [
    "datasets = {\n",
    "    \"100\": \"df_100.csv\",\n",
    "    \"1000\": \"df_1k.csv\",\n",
    "    \"10000\": \"df_10k.csv\",\n",
    "    \"100000\": \"df_100k.csv\",\n",
    "    \"1000000\": \"df_1m.csv\"\n",
    "    # \"10000000\": \"df_10m.csv\"  # Uncomment if you upload df_10m.csv\n",
    "}\n"
   ]
  },
  {
   "cell_type": "code",
   "execution_count": null,
   "id": "68632f77",
   "metadata": {},
   "outputs": [],
   "source": [
    "# Perform 5-Fold Cross-Validation and measure model accuracy and time\n",
    "# Model creation with random_state for reproducibility\n",
    "# Empty list to store results\n",
    "results = []\n",
    "\n",
    "# Train XGBoost with 5-fold CV on each dataset\n",
    "for size, file in datasets.items():\n",
    "    print(f\"Processing {size} rows...\")\n",
    "\n",
    "    # Load data\n",
    "    df = pd.read_csv(file)\n",
    "    X = df.drop('outcome', axis=1)\n",
    "    y = df['outcome']\n",
    "\n",
    "    # Define model\n",
    "    model = xgb.XGBClassifier(use_label_encoder=False, eval_metric='logloss', random_state=42)\n",
    "    kfold = StratifiedKFold(n_splits=5)\n",
    "\n",
    "    # Time training\n",
    "    start = time.time()\n",
    "    scores = cross_val_score(model, X, y, cv=kfold, scoring='accuracy')\n",
    "    end = time.time()\n",
    "\n",
    "    # Calculate results\n",
    "    accuracy = np.mean(scores)\n",
    "    elapsed = end - start\n",
    "\n",
    "    # Save results\n",
    "    results.append([\"Python XGBoost + 5fold\", size, accuracy, elapsed])\n"
   ]
  },
  {
   "cell_type": "code",
   "execution_count": 19,
   "metadata": {
    "colab": {
     "base_uri": "https://localhost:8080/"
    },
    "id": "aY6zH_jn0hmk",
    "outputId": "7a2be553-793d-4966-959b-63f892d126e4"
   },
   "outputs": [
    {
     "name": "stdout",
     "output_type": "stream",
     "text": [
      "              Method used Dataset Size  Accuracy  Time Taken\n",
      "0  Python XGBoost + 5fold          100  0.860000    0.335250\n",
      "1  Python XGBoost + 5fold         1000  0.946000    2.237376\n",
      "2  Python XGBoost + 5fold        10000  0.973300    9.927746\n",
      "3  Python XGBoost + 5fold       100000  0.986940    5.572298\n",
      "4  Python XGBoost + 5fold      1000000  0.991701   43.797805\n"
     ]
    }
   ],
   "source": [
    "# Create DataFrame\n",
    "res_df = pd.DataFrame(results, columns=[\"Method used\", \"Dataset Size\", \"Accuracy\", \"Time Taken\"])\n",
    "\n",
    "# Save to CSV\n",
    "res_df.to_csv(\"python_results.csv\", index=False)\n",
    "\n",
    "# Show results\n",
    "print(res_df)\n"
   ]
  }
 ],
 "metadata": {
  "colab": {
   "provenance": []
  },
  "kernelspec": {
   "display_name": "Python 3",
   "name": "python3"
  },
  "language_info": {
   "name": "python"
  }
 },
 "nbformat": 4,
 "nbformat_minor": 0
}
